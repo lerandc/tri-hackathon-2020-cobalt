{
 "cells": [
  {
   "cell_type": "markdown",
   "metadata": {},
   "source": [
    "# JCAP images & spectra hackathon\n",
    "## Intro and motivation\n",
    "This notebook gives an introduction to the dataset used in the research presented in Stein et al. Chem. Sci., 2019, 10, 47-55 https://doi.org/10.1039/C8SC03077D to generate embeddings from printed images and use them to predict full UV-Vis absorption spectra. The bigger picture for this scientific endeavour is the quest to find materials that are able to split water under irradiation of sunlight (solar water splitting) to generate renewable \"solar\" fuels. The scientists in the high-throughput experiementation group (HTE) at the Joint Center for Artificial Photosynthesis (JCAP - https://solarfuelshub.org/) therefore utilize ink-jet printing to deposit metal nitrate precursors onto transparent conducting oxides (TCO) that are annealed at high temperatures to form metal oxides. The images in this study (already encoded using a neural network in the dataset here) are optical microscopy images from a consumer grade photo scanner that is able to scan tens of thousands of materials images (ca. 4mm by 4mm) a minute. The information in these images is classic RGB CMOS data. Being able to tell from this very low-cost measurement how the full absorption spectra would qualitatively and quantitaively look like would not just enable the scientists to accelerate their discovery process but to also allow them to use the giant amount of materials images that have never been measured using UV-Vis spectroscopy.\n",
    "The measurement workflow is shown below.\n",
    "\n",
    "\n",
    "<img src=\"./jcap_workflow.png\" alt=\"workflow\" width=\"500\">\n",
    "\n",
    "\n",
    "## Technical introduction / reference\n",
    "\n",
    "**THIS IS FOR REFERENCE, THERE IS NO NEED TO DOWNLOAD FROM THE EXTERNAL SITE** In their publication Stein et al. used a convolutional variational autoencoder to generate image embeddings, that for the purpose of this notebook, shall function as a surrogate representation of the images. What you have in this notebook is the embeddings for a subset of the over 100k images described by Stein et al. in https://doi.org/10.1038/s41597-019-0019-4 that can be downloaded at https://data.caltech.edu/records/1152 with code to wrangle with the dataset available at https://github.com/helgestein/materials-images-spectra. \n",
    "The embeddings for images are already generated for you as this process requires training of a larger deep neural network and takes about 30 min to complete. \n",
    "\n",
    "**For the bandgap prediction a word of precaution should be made:** We calculate the bandgap only for those spectra where reasonable values were found for both the predicted and regressed bandgaps. The used algorithm for bandgap extraction is not very stable and can predict bandgaps outside a physically meaningful range. Also, we know that most materials are multiphase thus exhibit more than one bandgap. The algorithm finds the most dominant one."
   ]
  },
  {
   "cell_type": "markdown",
   "metadata": {},
   "source": [
    "# Load packages and files"
   ]
  },
  {
   "cell_type": "code",
   "execution_count": 20,
   "metadata": {},
   "outputs": [],
   "source": [
    "%matplotlib inline\n",
    "import os\n",
    "import boto3\n",
    "import numpy as np\n",
    "import pandas as pd\n",
    "import matplotlib.pyplot as plt\n",
    "from tqdm import tqdm"
   ]
  },
  {
   "cell_type": "markdown",
   "metadata": {},
   "source": [
    "Download files to SageMaker instance from S3."
   ]
  },
  {
   "cell_type": "code",
   "execution_count": 21,
   "metadata": {},
   "outputs": [],
   "source": [
    "jcap_pickle = 'jcap_optical_encoding.pickle'\n",
    "energy_npy = 'energy_ev.npy'"
   ]
  },
  {
   "cell_type": "code",
   "execution_count": 22,
   "metadata": {},
   "outputs": [
    {
     "name": "stderr",
     "output_type": "stream",
     "text": [
      "jcap_optical_encoding.pickle: 100%|██████████| 154M/154M [00:01<00:00, 151MB/s]  \n",
      "jcap_optical_encoding.pickle: 100%|██████████| 1.01k/1.01k [00:00<00:00, 30.4kB/s]\n"
     ]
    }
   ],
   "source": [
    "def hook(t):\n",
    "  def inner(bytes_amount):\n",
    "    t.update(bytes_amount)\n",
    "  return inner\n",
    "#session = boto3.session.Session(profile_name='hack2020')\n",
    "#s3 = session.client('s3')\n",
    "s3 = boto3.client('s3')\n",
    "for filename in [jcap_pickle, energy_npy]:\n",
    "    filesize = boto3.resource('s3').Object('hackathon2020-prod', 'data/' + filename).content_length\n",
    "    with tqdm(total=filesize, unit='B', unit_scale=True, desc=jcap_pickle) as t:\n",
    "        s3.download_file('hackathon2020-prod', 'data/' + filename, filename, Callback=hook(t))"
   ]
  },
  {
   "cell_type": "markdown",
   "metadata": {},
   "source": [
    "Load local files into arrays or Pandas dataframe."
   ]
  },
  {
   "cell_type": "code",
   "execution_count": 23,
   "metadata": {},
   "outputs": [
    {
     "data": {
      "text/plain": [
       "(100430, 45)"
      ]
     },
     "execution_count": 23,
     "metadata": {},
     "output_type": "execute_result"
    }
   ],
   "source": [
    "energy_ev = np.load(energy_npy)\n",
    "jcap_df = pd.read_pickle(jcap_pickle)\n",
    "jcap_df.shape"
   ]
  },
  {
   "cell_type": "markdown",
   "metadata": {},
   "source": [
    "Look at the first few rows of the dataframe."
   ]
  },
  {
   "cell_type": "code",
   "execution_count": 24,
   "metadata": {},
   "outputs": [
    {
     "data": {
      "text/html": [
       "<div>\n",
       "<style scoped>\n",
       "    .dataframe tbody tr th:only-of-type {\n",
       "        vertical-align: middle;\n",
       "    }\n",
       "\n",
       "    .dataframe tbody tr th {\n",
       "        vertical-align: top;\n",
       "    }\n",
       "\n",
       "    .dataframe thead th {\n",
       "        text-align: right;\n",
       "    }\n",
       "</style>\n",
       "<table border=\"1\" class=\"dataframe\">\n",
       "  <thead>\n",
       "    <tr style=\"text-align: right;\">\n",
       "      <th></th>\n",
       "      <th>bandgap</th>\n",
       "      <th>vae</th>\n",
       "      <th>spectrum</th>\n",
       "      <th>Fe</th>\n",
       "      <th>Sn</th>\n",
       "      <th>Ti</th>\n",
       "      <th>Zn</th>\n",
       "      <th>Ce</th>\n",
       "      <th>Co</th>\n",
       "      <th>Ni</th>\n",
       "      <th>...</th>\n",
       "      <th>Ba</th>\n",
       "      <th>Yb</th>\n",
       "      <th>P</th>\n",
       "      <th>Sc</th>\n",
       "      <th>Ag</th>\n",
       "      <th>Tb</th>\n",
       "      <th>Nd</th>\n",
       "      <th>Pd</th>\n",
       "      <th>Hf</th>\n",
       "      <th>Rb</th>\n",
       "    </tr>\n",
       "    <tr>\n",
       "      <th>comp_id</th>\n",
       "      <th></th>\n",
       "      <th></th>\n",
       "      <th></th>\n",
       "      <th></th>\n",
       "      <th></th>\n",
       "      <th></th>\n",
       "      <th></th>\n",
       "      <th></th>\n",
       "      <th></th>\n",
       "      <th></th>\n",
       "      <th></th>\n",
       "      <th></th>\n",
       "      <th></th>\n",
       "      <th></th>\n",
       "      <th></th>\n",
       "      <th></th>\n",
       "      <th></th>\n",
       "      <th></th>\n",
       "      <th></th>\n",
       "      <th></th>\n",
       "      <th></th>\n",
       "    </tr>\n",
       "  </thead>\n",
       "  <tbody>\n",
       "    <tr>\n",
       "      <th>0</th>\n",
       "      <td>1.755781</td>\n",
       "      <td>[-0.31556356, 0.08774113, -0.8520775, -0.31919...</td>\n",
       "      <td>[0.10790491, 0.10887808, 0.10989829, 0.1109349...</td>\n",
       "      <td>0.00</td>\n",
       "      <td>0.0</td>\n",
       "      <td>0.0</td>\n",
       "      <td>0.0</td>\n",
       "      <td>0.0</td>\n",
       "      <td>0.0</td>\n",
       "      <td>0.0</td>\n",
       "      <td>...</td>\n",
       "      <td>0.0</td>\n",
       "      <td>0.0</td>\n",
       "      <td>0.0</td>\n",
       "      <td>0.0</td>\n",
       "      <td>0.0</td>\n",
       "      <td>0.0</td>\n",
       "      <td>0.0</td>\n",
       "      <td>0.0</td>\n",
       "      <td>0.0</td>\n",
       "      <td>0.0</td>\n",
       "    </tr>\n",
       "    <tr>\n",
       "      <th>1</th>\n",
       "      <td>1.742198</td>\n",
       "      <td>[-0.12112557, 0.24288416, -0.9173074, -0.15820...</td>\n",
       "      <td>[0.11588116, 0.1168056, 0.117843196, 0.1188294...</td>\n",
       "      <td>0.00</td>\n",
       "      <td>0.0</td>\n",
       "      <td>0.0</td>\n",
       "      <td>0.0</td>\n",
       "      <td>0.0</td>\n",
       "      <td>0.0</td>\n",
       "      <td>0.0</td>\n",
       "      <td>...</td>\n",
       "      <td>0.0</td>\n",
       "      <td>0.0</td>\n",
       "      <td>0.0</td>\n",
       "      <td>0.0</td>\n",
       "      <td>0.0</td>\n",
       "      <td>0.0</td>\n",
       "      <td>0.0</td>\n",
       "      <td>0.0</td>\n",
       "      <td>0.0</td>\n",
       "      <td>0.0</td>\n",
       "    </tr>\n",
       "    <tr>\n",
       "      <th>2</th>\n",
       "      <td>1.771895</td>\n",
       "      <td>[-0.04941248, 0.16220033, -0.712603, -0.112917...</td>\n",
       "      <td>[0.106575124, 0.10763326, 0.10877366, 0.109730...</td>\n",
       "      <td>0.05</td>\n",
       "      <td>0.0</td>\n",
       "      <td>0.0</td>\n",
       "      <td>0.0</td>\n",
       "      <td>0.0</td>\n",
       "      <td>0.0</td>\n",
       "      <td>0.0</td>\n",
       "      <td>...</td>\n",
       "      <td>0.0</td>\n",
       "      <td>0.0</td>\n",
       "      <td>0.0</td>\n",
       "      <td>0.0</td>\n",
       "      <td>0.0</td>\n",
       "      <td>0.0</td>\n",
       "      <td>0.0</td>\n",
       "      <td>0.0</td>\n",
       "      <td>0.0</td>\n",
       "      <td>0.0</td>\n",
       "    </tr>\n",
       "    <tr>\n",
       "      <th>3</th>\n",
       "      <td>1.771431</td>\n",
       "      <td>[0.0121279415, 0.21519777, -0.9823824, -0.0944...</td>\n",
       "      <td>[0.116964534, 0.117831506, 0.11866215, 0.11943...</td>\n",
       "      <td>0.00</td>\n",
       "      <td>0.0</td>\n",
       "      <td>0.0</td>\n",
       "      <td>0.0</td>\n",
       "      <td>0.0</td>\n",
       "      <td>0.0</td>\n",
       "      <td>0.0</td>\n",
       "      <td>...</td>\n",
       "      <td>0.0</td>\n",
       "      <td>0.0</td>\n",
       "      <td>0.0</td>\n",
       "      <td>0.0</td>\n",
       "      <td>0.0</td>\n",
       "      <td>0.0</td>\n",
       "      <td>0.0</td>\n",
       "      <td>0.0</td>\n",
       "      <td>0.0</td>\n",
       "      <td>0.0</td>\n",
       "    </tr>\n",
       "    <tr>\n",
       "      <th>4</th>\n",
       "      <td>1.791558</td>\n",
       "      <td>[-0.086630665, 0.18296382, -0.90706384, -0.095...</td>\n",
       "      <td>[0.10127419, 0.102086134, 0.102931604, 0.10381...</td>\n",
       "      <td>0.05</td>\n",
       "      <td>0.0</td>\n",
       "      <td>0.0</td>\n",
       "      <td>0.0</td>\n",
       "      <td>0.0</td>\n",
       "      <td>0.0</td>\n",
       "      <td>0.0</td>\n",
       "      <td>...</td>\n",
       "      <td>0.0</td>\n",
       "      <td>0.0</td>\n",
       "      <td>0.0</td>\n",
       "      <td>0.0</td>\n",
       "      <td>0.0</td>\n",
       "      <td>0.0</td>\n",
       "      <td>0.0</td>\n",
       "      <td>0.0</td>\n",
       "      <td>0.0</td>\n",
       "      <td>0.0</td>\n",
       "    </tr>\n",
       "  </tbody>\n",
       "</table>\n",
       "<p>5 rows × 45 columns</p>\n",
       "</div>"
      ],
      "text/plain": [
       "          bandgap                                                vae  \\\n",
       "comp_id                                                                \n",
       "0        1.755781  [-0.31556356, 0.08774113, -0.8520775, -0.31919...   \n",
       "1        1.742198  [-0.12112557, 0.24288416, -0.9173074, -0.15820...   \n",
       "2        1.771895  [-0.04941248, 0.16220033, -0.712603, -0.112917...   \n",
       "3        1.771431  [0.0121279415, 0.21519777, -0.9823824, -0.0944...   \n",
       "4        1.791558  [-0.086630665, 0.18296382, -0.90706384, -0.095...   \n",
       "\n",
       "                                                  spectrum    Fe   Sn   Ti  \\\n",
       "comp_id                                                                      \n",
       "0        [0.10790491, 0.10887808, 0.10989829, 0.1109349...  0.00  0.0  0.0   \n",
       "1        [0.11588116, 0.1168056, 0.117843196, 0.1188294...  0.00  0.0  0.0   \n",
       "2        [0.106575124, 0.10763326, 0.10877366, 0.109730...  0.05  0.0  0.0   \n",
       "3        [0.116964534, 0.117831506, 0.11866215, 0.11943...  0.00  0.0  0.0   \n",
       "4        [0.10127419, 0.102086134, 0.102931604, 0.10381...  0.05  0.0  0.0   \n",
       "\n",
       "          Zn   Ce   Co   Ni  ...   Ba   Yb    P   Sc   Ag   Tb   Nd   Pd   Hf  \\\n",
       "comp_id                      ...                                                \n",
       "0        0.0  0.0  0.0  0.0  ...  0.0  0.0  0.0  0.0  0.0  0.0  0.0  0.0  0.0   \n",
       "1        0.0  0.0  0.0  0.0  ...  0.0  0.0  0.0  0.0  0.0  0.0  0.0  0.0  0.0   \n",
       "2        0.0  0.0  0.0  0.0  ...  0.0  0.0  0.0  0.0  0.0  0.0  0.0  0.0  0.0   \n",
       "3        0.0  0.0  0.0  0.0  ...  0.0  0.0  0.0  0.0  0.0  0.0  0.0  0.0  0.0   \n",
       "4        0.0  0.0  0.0  0.0  ...  0.0  0.0  0.0  0.0  0.0  0.0  0.0  0.0  0.0   \n",
       "\n",
       "          Rb  \n",
       "comp_id       \n",
       "0        0.0  \n",
       "1        0.0  \n",
       "2        0.0  \n",
       "3        0.0  \n",
       "4        0.0  \n",
       "\n",
       "[5 rows x 45 columns]"
      ]
     },
     "execution_count": 24,
     "metadata": {},
     "output_type": "execute_result"
    }
   ],
   "source": [
    "jcap_df.head()"
   ]
  },
  {
   "cell_type": "markdown",
   "metadata": {},
   "source": [
    "The dataframe is indexed with an entry id associated with a unique composition. The bandgap, 100-dimensional encoding from variational autoencoder in the reference, the optical-UV spectrum, and the atomic fraction of each element are listed for each entry."
   ]
  },
  {
   "cell_type": "code",
   "execution_count": 35,
   "metadata": {},
   "outputs": [
    {
     "data": {
      "text/plain": [
       "Index(['bandgap', 'vae', 'spectrum', 'Fe', 'Sn', 'Ti', 'Zn', 'Ce', 'Co', 'Ni',\n",
       "       'Bi', 'V', 'Cu', 'Mn', 'W', 'Mo', 'La', 'Cr', 'Y', 'Er', 'Sr', 'Gd',\n",
       "       'Sm', 'Sb', 'Nb', 'Ga', 'In', 'Al', 'Pb', 'Mg', 'Ca', 'Pr', 'Eu', 'Zr',\n",
       "       'Lu', 'Ba', 'Yb', 'P', 'Sc', 'Ag', 'Tb', 'Nd', 'Pd', 'Hf', 'Rb'],\n",
       "      dtype='object')"
      ]
     },
     "execution_count": 35,
     "metadata": {},
     "output_type": "execute_result"
    }
   ],
   "source": [
    "jcap_df.columns"
   ]
  },
  {
   "cell_type": "markdown",
   "metadata": {},
   "source": [
    "Here we plot a histogram of all the bandgaps over the entire dataset."
   ]
  },
  {
   "cell_type": "code",
   "execution_count": 38,
   "metadata": {},
   "outputs": [
    {
     "data": {
      "image/png": "[encoded data removed]",
      "text/plain": [
       "<Figure size 432x288 with 1 Axes>"
      ]
     },
     "metadata": {
      "needs_background": "light"
     },
     "output_type": "display_data"
    }
   ],
   "source": [
    "jcap_df['bandgap'].plot.hist(bins=40,range=[0,3])\n",
    "plt.xlabel('bandgap [eV]')\n",
    "plt.savefig('bandgap_hist.png')"
   ]
  },
  {
   "cell_type": "code",
   "execution_count": 37,
   "metadata": {},
   "outputs": [
    {
     "data": {
      "image/png": "[encoded data removed]",
      "text/plain": [
       "<Figure size 432x288 with 1 Axes>"
      ]
     },
     "metadata": {
      "needs_background": "light"
     },
     "output_type": "display_data"
    }
   ],
   "source": [
    "jcap_df['bandgap'].plot.hist(bins=40,range=[0,1.2])\n",
    "plt.xlabel('bandgap [eV]')\n",
    "plt.savefig('bandgap_hist_zoom.png')"
   ]
  },
  {
   "cell_type": "markdown",
   "metadata": {},
   "source": [
    "Here we inspect the properties of a single entry (106). The optical-UV spectrum is shown over the range in array `energy_ev`, a histogram of coefficients from the encoding is plotted, and we print the elements with non-zero atomic fraction."
   ]
  },
  {
   "cell_type": "code",
   "execution_count": 14,
   "metadata": {},
   "outputs": [
    {
     "data": {
      "image/png": "[encoded data removed]",
      "text/plain": [
       "<Figure size 432x288 with 1 Axes>"
      ]
     },
     "metadata": {
      "needs_background": "light"
     },
     "output_type": "display_data"
    },
    {
     "data": {
      "image/png": "[encoded data removed]",
      "text/plain": [
       "<Figure size 432x288 with 1 Axes>"
      ]
     },
     "metadata": {
      "needs_background": "light"
     },
     "output_type": "display_data"
    },
    {
     "name": "stdout",
     "output_type": "stream",
     "text": [
      "101 Fe 0.3\n",
      "101 Bi 0.35\n",
      "101 Mn 0.35\n"
     ]
    }
   ],
   "source": [
    "entry_id = 101\n",
    "plt.plot(energy_ev, jcap_df.loc[entry_id, 'spectrum'])\n",
    "plt.show()\n",
    "plt.hist(jcap_df.loc[entry_id, 'vae'], bins=40)\n",
    "plt.show()\n",
    "for col in jcap_df.columns:\n",
    "    if len(col) > 2:\n",
    "        continue\n",
    "    if jcap_df.loc[entry_id, col] > 1e-6:\n",
    "        print(entry_id, col, jcap_df.loc[entry_id, col])"
   ]
  },
  {
   "cell_type": "code",
   "execution_count": null,
   "metadata": {},
   "outputs": [],
   "source": []
  }
 ],
 "metadata": {
  "kernelspec": {
   "display_name": "AMDD",
   "language": "python",
   "name": "amdd"
  },
  "language_info": {
   "codemirror_mode": {
    "name": "ipython",
    "version": 3
   },
   "file_extension": ".py",
   "mimetype": "text/x-python",
   "name": "python",
   "nbconvert_exporter": "python",
   "pygments_lexer": "ipython3",
   "version": "3.6.10"
  }
 },
 "nbformat": 4,
 "nbformat_minor": 4
}
