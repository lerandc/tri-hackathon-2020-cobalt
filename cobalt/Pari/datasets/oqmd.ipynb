{
 "cells": [
  {
   "cell_type": "markdown",
   "metadata": {},
   "source": [
    "This notebook demonstrates how simple formation energy models can be trained on OQMD data using magpie descriptors (based on https://journals.aps.org/prb/abstract/10.1103/PhysRevB.96.024104) The 271 descriptors for each entry in OQMD  were precomputed using MatMiner, and provided as a pickle file."
   ]
  },
  {
   "cell_type": "code",
   "execution_count": 1,
   "metadata": {},
   "outputs": [],
   "source": [
    "import pandas as pd\n",
    "import numpy as np\n",
    "import time\n",
    "import boto3\n",
    "from sklearn.linear_model import LinearRegression\n",
    "from sklearn.ensemble import RandomForestRegressor\n",
    "from sklearn.model_selection import KFold\n",
    "from sklearn.preprocessing import StandardScaler\n",
    "from sklearn.metrics import mean_absolute_error\n",
    "from tqdm import tqdm"
   ]
  },
  {
   "cell_type": "markdown",
   "metadata": {},
   "source": [
    "Download dataframe containing precomputed magpie descriptors, and formation energies: `s3://hackathon2020-prod/data/oqmd_1.2_voronoi_magpie_fingerprints.pickle`."
   ]
  },
  {
   "cell_type": "code",
   "execution_count": 2,
   "metadata": {},
   "outputs": [],
   "source": [
    "oqmd_pickle = 'oqmd_1.2_voronoi_magpie_fingerprints.pickle'"
   ]
  },
  {
   "cell_type": "code",
   "execution_count": 3,
   "metadata": {},
   "outputs": [
    {
     "name": "stderr",
     "output_type": "stream",
     "text": [
      "oqmd_1.2_voronoi_magpie_fingerprints.pickle: 100%|██████████| 1.34G/1.34G [00:06<00:00, 220MB/s] \n"
     ]
    }
   ],
   "source": [
    "def hook(t):\n",
    "  def inner(bytes_amount):\n",
    "    t.update(bytes_amount)\n",
    "  return inner\n",
    "#session = boto3.session.Session(profile_name='hack2020')\n",
    "#s3 = session.client('s3')\n",
    "s3 = boto3.client('s3')\n",
    "filesize = boto3.resource('s3').Object('hackathon2020-prod', 'data/' + oqmd_pickle).content_length\n",
    "with tqdm(total=filesize, unit='B', unit_scale=True, desc=oqmd_pickle) as t:\n",
    "    s3.download_file('hackathon2020-prod', 'data/' + oqmd_pickle, oqmd_pickle, Callback=hook(t))"
   ]
  },
  {
   "cell_type": "markdown",
   "metadata": {},
   "source": [
    "Load into dataframe."
   ]
  },
  {
   "cell_type": "code",
   "execution_count": 4,
   "metadata": {},
   "outputs": [],
   "source": [
    "df = pd.read_pickle(oqmd_pickle)"
   ]
  },
  {
   "cell_type": "markdown",
   "metadata": {},
   "source": [
    "Since the data is in a pandas dataframe, we can conveniently inspect it. `delta_e` is the target column we would like to predict. We also will not need `oqmd_id` and `Composition` columns in training the model. The rest of the columns pertain to magpie descriptors computed for each OQMD entry."
   ]
  },
  {
   "cell_type": "code",
   "execution_count": 9,
   "metadata": {},
   "outputs": [],
   "source": [
    "# import pprint\n",
    "# pprint.pprint(list(df.columns))"
   ]
  },
  {
   "cell_type": "code",
   "execution_count": 10,
   "metadata": {},
   "outputs": [
    {
     "data": {
      "text/plain": [
       "(606121, 276)"
      ]
     },
     "execution_count": 10,
     "metadata": {},
     "output_type": "execute_result"
    }
   ],
   "source": [
    "df.shape"
   ]
  },
  {
   "cell_type": "markdown",
   "metadata": {},
   "source": [
    "Let's now drop the rows that have missing data, and identify any columns that are not np.float64. Straightforward with pandas:"
   ]
  },
  {
   "cell_type": "code",
   "execution_count": 11,
   "metadata": {},
   "outputs": [],
   "source": [
    "df = df.dropna(axis=0, how='any')"
   ]
  },
  {
   "cell_type": "code",
   "execution_count": 12,
   "metadata": {},
   "outputs": [
    {
     "name": "stdout",
     "output_type": "stream",
     "text": [
      "0-norm int64\n",
      "Composition object\n",
      "N_species int64\n",
      "compound possible bool\n"
     ]
    }
   ],
   "source": [
    "not_float_cols = []\n",
    "for col in df.columns:\n",
    "    if df[col].dtype != np.float64:\n",
    "        print(col, df[col].dtype)\n",
    "        not_float_cols.append(col)"
   ]
  },
  {
   "cell_type": "markdown",
   "metadata": {},
   "source": [
    "Let's subsample the OQMD entries to be able to train models in a reasonable time frame (only for the purposes of this example, you can switch to the full dataset later)"
   ]
  },
  {
   "cell_type": "code",
   "execution_count": 13,
   "metadata": {
    "scrolled": true
   },
   "outputs": [],
   "source": [
    "df = df.sample(n=50000)"
   ]
  },
  {
   "cell_type": "markdown",
   "metadata": {},
   "source": [
    "Prepare our target (y) and feature vectors (X) for training. We'll get rid of some columns without float values:"
   ]
  },
  {
   "cell_type": "code",
   "execution_count": 16,
   "metadata": {},
   "outputs": [],
   "source": [
    "y = df['delta_e']\n",
    "X = df.drop(not_float_cols+['delta_e'], axis=1)"
   ]
  },
  {
   "cell_type": "markdown",
   "metadata": {},
   "source": [
    "We want to do k-fold cross-validation (CV) to test the performance of our models. Let's do a 3-fold split in this example."
   ]
  },
  {
   "cell_type": "code",
   "execution_count": 17,
   "metadata": {},
   "outputs": [],
   "source": [
    "kf = KFold(n_splits=3, shuffle=True, random_state=42)"
   ]
  },
  {
   "cell_type": "markdown",
   "metadata": {},
   "source": [
    "We will collect the predicted and actual formation energies in each fold, to later use in model evaluation. Let's start the CV loop for a linear regression, which will serve as our baseline:"
   ]
  },
  {
   "cell_type": "code",
   "execution_count": 18,
   "metadata": {},
   "outputs": [],
   "source": [
    "predictions_LR, truth_LR = [], []\n",
    "\n",
    "for train_index, test_index in kf.split(X, y):\n",
    "    \n",
    "    X_train, X_test = X.iloc[train_index], X.iloc[test_index]\n",
    "    y_train, y_test = y.iloc[train_index], y.iloc[test_index]\n",
    "    \n",
    "    # Note we are reinitializing the scaler in each fold.\n",
    "    scaler = StandardScaler()\n",
    "    X_train = scaler.fit_transform(X_train)\n",
    "    \n",
    "    # This is where we train set of the current fold.\n",
    "    regressor = LinearRegression()\n",
    "    regressor.fit(X_train, y_train)\n",
    "    \n",
    "    # We should properly standardize our test X with the scaler fitted in this fold.\n",
    "    X_test = scaler.transform(X_test)\n",
    "    \n",
    "    # This is where we make prediction on test set of the current fold.\n",
    "    predictions_LR += regressor.predict(X_test).tolist()\n",
    "    truth_LR += y_test.tolist()"
   ]
  },
  {
   "cell_type": "markdown",
   "metadata": {},
   "source": [
    "Here is the mean absolute error (in eV/atom) for the linear regresson model:"
   ]
  },
  {
   "cell_type": "code",
   "execution_count": 19,
   "metadata": {},
   "outputs": [
    {
     "name": "stdout",
     "output_type": "stream",
     "text": [
      "0.2589932977206368\n"
     ]
    }
   ],
   "source": [
    "print(mean_absolute_error(truth_LR, predictions_LR))"
   ]
  },
  {
   "cell_type": "markdown",
   "metadata": {},
   "source": [
    "Now let's do a similar evaluation for a more complex, non-linear model, such as Random Forest. We will also time this, as it takes significant amount of time."
   ]
  },
  {
   "cell_type": "code",
   "execution_count": 20,
   "metadata": {},
   "outputs": [
    {
     "name": "stdout",
     "output_type": "stream",
     "text": [
      "12.372137546539307  seconds for present fold.\n",
      "12.671508312225342  seconds for present fold.\n",
      "12.372462272644043  seconds for present fold.\n"
     ]
    }
   ],
   "source": [
    "predictions_RF, truth_RF = [], []\n",
    "\n",
    "for train_index, test_index in kf.split(X, y):\n",
    "    \n",
    "    X_train, X_test = X.iloc[train_index], X.iloc[test_index]\n",
    "    y_train, y_test = y.iloc[train_index], y.iloc[test_index]\n",
    "    \n",
    "    # Note we are reinitializing the scaler in each fold.\n",
    "    scaler = StandardScaler()\n",
    "    X_train = scaler.fit_transform(X_train)\n",
    "    \n",
    "    # This is where we train set of the current fold.\n",
    "    t0 = time.time()\n",
    "    regressor = RandomForestRegressor(n_estimators=20, n_jobs=-1)\n",
    "    regressor.fit(X_train, y_train)\n",
    "    print(time.time()-t0, ' seconds for present fold.')\n",
    "    \n",
    "    # We should properly standardize our test X with the scaler fitted in this fold.\n",
    "    X_test = scaler.transform(X_test)\n",
    "    \n",
    "    # This is where we make prediction on test set of the current fold.\n",
    "    predictions_RF += regressor.predict(X_test).tolist()\n",
    "    truth_RF += y_test.tolist()"
   ]
  },
  {
   "cell_type": "markdown",
   "metadata": {},
   "source": [
    "In the present problem, random forest can clearly deliver a much better CV score (in terms of mean absolute error), compared to a linear model (this may not always be the case in other ML tasks, so always check your baseline!):"
   ]
  },
  {
   "cell_type": "code",
   "execution_count": 21,
   "metadata": {},
   "outputs": [
    {
     "name": "stdout",
     "output_type": "stream",
     "text": [
      "0.15111742909472312\n"
     ]
    }
   ],
   "source": [
    "print(mean_absolute_error(truth_RF, predictions_RF))"
   ]
  },
  {
   "cell_type": "markdown",
   "metadata": {},
   "source": [
    "Let's visualize the model predictions"
   ]
  },
  {
   "cell_type": "code",
   "execution_count": 22,
   "metadata": {},
   "outputs": [
    {
     "data": {
      "image/png": "[encoded data removed]",
      "text/plain": [
       "<Figure size 576x288 with 2 Axes>"
      ]
     },
     "metadata": {
      "needs_background": "light"
     },
     "output_type": "display_data"
    }
   ],
   "source": [
    "%matplotlib inline\n",
    "import matplotlib.pyplot as plt\n",
    "fig, axes = plt.subplots(ncols=2, sharey=True, sharex=True, figsize=(8,4))\n",
    "axes[0].plot(truth_RF, predictions_RF, 'ro', alpha=0.05, markersize=2, label='random forest')\n",
    "axes[1].plot(truth_LR, predictions_LR, 'bo', alpha=0.05, markersize=2, label='linear reg.')\n",
    "axes[0].set_ylabel('Predicted (eV/atom)')\n",
    "for i in range(2):\n",
    "    axes[i].set_xlabel('DFT value (eV/atom)')\n",
    "    axes[i].plot([-5,5], [-5,5], 'k--')\n",
    "    axes[i].legend()\n",
    "plt.show()"
   ]
  },
  {
   "cell_type": "code",
   "execution_count": null,
   "metadata": {},
   "outputs": [],
   "source": []
  }
 ],
 "metadata": {
  "kernelspec": {
   "display_name": "AMDD",
   "language": "python",
   "name": "amdd"
  },
  "language_info": {
   "codemirror_mode": {
    "name": "ipython",
    "version": 3
   },
   "file_extension": ".py",
   "mimetype": "text/x-python",
   "name": "python",
   "nbconvert_exporter": "python",
   "pygments_lexer": "ipython3",
   "version": "3.6.10"
  }
 },
 "nbformat": 4,
 "nbformat_minor": 4
}
