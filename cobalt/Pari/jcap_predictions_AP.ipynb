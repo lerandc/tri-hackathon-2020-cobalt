{
 "cells": [
  {
   "cell_type": "markdown",
   "metadata": {},
   "source": [
    "# JCAP images & spectra hackathon\n",
    "## Intro and motivation\n",
    "This notebook gives an introduction to the dataset used in the research presented in Stein et al. Chem. Sci., 2019, 10, 47-55 https://doi.org/10.1039/C8SC03077D to generate embeddings from printed images and use them to predict full UV-Vis absorption spectra. The bigger picture for this scientific endeavour is the quest to find materials that are able to split water under irradiation of sunlight (solar water splitting) to generate renewable \"solar\" fuels. The scientists in the high-throughput experiementation group (HTE) at the Joint Center for Artificial Photosynthesis (JCAP - https://solarfuelshub.org/) therefore utilize ink-jet printing to deposit metal nitrate precursors onto transparent conducting oxides (TCO) that are annealed at high temperatures to form metal oxides. The images in this study (already encoded using a neural network in the dataset here) are optical microscopy images from a consumer grade photo scanner that is able to scan tens of thousands of materials images (ca. 4mm by 4mm) a minute. The information in these images is classic RGB CMOS data. Being able to tell from this very low-cost measurement how the full absorption spectra would qualitatively and quantitaively look like would not just enable the scientists to accelerate their discovery process but to also allow them to use the giant amount of materials images that have never been measured using UV-Vis spectroscopy.\n",
    "The measurement workflow is shown below.\n",
    "\n",
    "\n",
    "<img src=\"./jcap_workflow.png\" alt=\"workflow\" width=\"500\">\n",
    "\n",
    "\n",
    "## Technical introduction / reference\n",
    "\n",
    "**THIS IS FOR REFERENCE, THERE IS NO NEED TO DOWNLOAD FROM THE EXTERNAL SITE** In their publication Stein et al. used a convolutional variational autoencoder to generate image embeddings, that for the purpose of this notebook, shall function as a surrogate representation of the images. What you have in this notebook is the embeddings for a subset of the over 100k images described by Stein et al. in https://doi.org/10.1038/s41597-019-0019-4 that can be downloaded at https://data.caltech.edu/records/1152 with code to wrangle with the dataset available at https://github.com/helgestein/materials-images-spectra. \n",
    "The embeddings for images are already generated for you as this process requires training of a larger deep neural network and takes about 30 min to complete. \n",
    "\n",
    "**For the bandgap prediction a word of precaution should be made:** We calculate the bandgap only for those spectra where reasonable values were found for both the predicted and regressed bandgaps. The used algorithm for bandgap extraction is not very stable and can predict bandgaps outside a physically meaningful range. Also, we know that most materials are multiphase thus exhibit more than one bandgap. The algorithm finds the most dominant one."
   ]
  },
  {
   "cell_type": "markdown",
   "metadata": {},
   "source": [
    "# Load packages and files"
   ]
  },
  {
   "cell_type": "code",
   "execution_count": 1,
   "metadata": {},
   "outputs": [],
   "source": [
    "%matplotlib inline\n",
    "import os\n",
    "import boto3\n",
    "import numpy as np\n",
    "import pandas as pd\n",
    "import matplotlib.pyplot as plt\n",
    "from tqdm import tqdm"
   ]
  },
  {
   "cell_type": "markdown",
   "metadata": {},
   "source": [
    "Download files to SageMaker instance from S3."
   ]
  },
  {
   "cell_type": "code",
   "execution_count": 2,
   "metadata": {},
   "outputs": [
    {
     "name": "stderr",
     "output_type": "stream",
     "text": [
      "jcap_optical_encoding.pickle: 100%|██████████| 154M/154M [00:01<00:00, 136MB/s]  \n",
      "jcap_optical_encoding.pickle: 100%|██████████| 1.01k/1.01k [00:00<00:00, 16.3kB/s]\n"
     ]
    }
   ],
   "source": [
    "jcap_pickle = 'jcap_optical_encoding.pickle'\n",
    "energy_npy = 'energy_ev.npy'\n",
    "\n",
    "def hook(t):\n",
    "    def inner(bytes_amount):\n",
    "        t.update(bytes_amount)\n",
    "    return inner\n",
    "#session = boto3.session.Session(profile_name='hack2020')\n",
    "#s3 = session.client('s3')\n",
    "s3 = boto3.client('s3')\n",
    "for filename in [jcap_pickle, energy_npy]:\n",
    "    filesize = boto3.resource('s3').Object('hackathon2020-prod', 'data/' + filename).content_length\n",
    "    with tqdm(total=filesize, unit='B', unit_scale=True, desc=jcap_pickle) as t:\n",
    "        s3.download_file('hackathon2020-prod', 'data/' + filename, filename, Callback=hook(t))"
   ]
  },
  {
   "cell_type": "markdown",
   "metadata": {},
   "source": [
    "Load local files into arrays or Pandas dataframe."
   ]
  },
  {
   "cell_type": "code",
   "execution_count": 3,
   "metadata": {},
   "outputs": [],
   "source": [
    "energy_ev = np.load(energy_npy)\n",
    "jcap_df = pd.read_pickle(jcap_pickle)\n",
    "jcap_df.shape"
   ]
  },
  {
   "cell_type": "markdown",
   "metadata": {},
   "source": [
    "The dataframe is indexed with an entry id associated with a unique composition. The bandgap, 100-dimensional encoding from variational autoencoder in the reference, the optical-UV spectrum, and the atomic fraction of each element are listed for each entry."
   ]
  },
  {
   "cell_type": "markdown",
   "metadata": {},
   "source": [
    "## Preprocess Data"
   ]
  },
  {
   "cell_type": "code",
   "execution_count": 6,
   "metadata": {},
   "outputs": [],
   "source": [
    "# # add a composition column \n",
    "# compositions = []\n",
    "# for index, row in jcap_df.iterrows():\n",
    "#     composition = {elem:round(comp,3) for elem, comp in zip(row['Fe':'Rb'].index, row['Fe':'Rb']) if comp != 0}\n",
    "#     compositions.append(composition)\n",
    "\n",
    "# processed_jcap_df = jcap_df[['bandgap', 'vae', 'spectrum']].copy()\n",
    "# processed_jcap_df['composition'] = compositions"
   ]
  },
  {
   "cell_type": "markdown",
   "metadata": {},
   "source": [
    "## Agents"
   ]
  },
  {
   "cell_type": "markdown",
   "metadata": {},
   "source": [
    "#### 1. first test four different agent and decide which two are better"
   ]
  },
  {
   "cell_type": "code",
   "execution_count": 18,
   "metadata": {},
   "outputs": [],
   "source": [
    "import time\n",
    "from sklearn.linear_model import LinearRegression\n",
    "from sklearn.ensemble import RandomForestRegressor\n",
    "from sklearn.neural_network import MLPRegressor\n",
    "from sklearn.model_selection import KFold, TimeSeriesSplit, learning_curve, cross_val_score\n",
    "from sklearn.metrics import mean_absolute_error, explained_variance_score\n",
    "from tpot import TPOTRegressor"
   ]
  },
  {
   "cell_type": "code",
   "execution_count": 8,
   "metadata": {},
   "outputs": [],
   "source": [
    "X = np.array([list(x) for x in np.array(jcap_df['vae'])])\n",
    "y = np.array(jcap_df['bandgap'])"
   ]
  },
  {
   "cell_type": "code",
   "execution_count": 19,
   "metadata": {},
   "outputs": [],
   "source": [
    "kf = KFold(n_splits=3, shuffle=True, random_state=42)\n",
    "\n",
    "lr = LinearRegression()\n",
    "rf = RandomForestRegressor(n_estimators=20, n_jobs=-1)\n",
    "nn = MLPRegressor(random_state=1)"
   ]
  },
  {
   "cell_type": "code",
   "execution_count": 26,
   "metadata": {},
   "outputs": [],
   "source": [
    "def plot_learning_curve(estimator, X, y, cv=None, n_jobs=1, train_sizes=np.linspace(.1, 1.0, 10), color=None, label=None):\n",
    "    t0 = time.time()\n",
    "    train_sizes, train_scores, test_scores = learning_curve(\n",
    "        estimator, X, y, cv=cv, n_jobs=n_jobs, train_sizes=train_sizes, scoring='neg_mean_absolute_error')\n",
    "    train_scores_mean = -np.mean(train_scores, axis=1)\n",
    "    train_scores_std = -np.std(train_scores, axis=1)\n",
    "    test_scores_mean = -np.mean(test_scores, axis=1)\n",
    "    test_scores_std = -np.std(test_scores, axis=1)\n",
    "    plthandle, = plt.plot(train_sizes, test_scores_mean, 'o-', color=color,\n",
    "             label=label,ms=15)\n",
    "    plt.fill_between(train_sizes, test_scores_mean - test_scores_std,\n",
    "                     test_scores_mean + test_scores_std, alpha=0.1, color=plthandle.get_color())\n",
    "    print('Total time', time.time()-t0) "
   ]
  },
  {
   "cell_type": "code",
   "execution_count": 29,
   "metadata": {},
   "outputs": [
    {
     "name": "stdout",
     "output_type": "stream",
     "text": [
      "Total time 1.5927329063415527\n",
      "Total time 267.08924174308777\n",
      "Total time 150.4772527217865\n"
     ]
    },
    {
     "data": {
      "image/png": "[encoded data removed]",
      "text/plain": [
       "<Figure size 1080x720 with 1 Axes>"
      ]
     },
     "metadata": {
      "needs_background": "light"
     },
     "output_type": "display_data"
    }
   ],
   "source": [
    "plt.figure(figsize=(15,10))\n",
    "plt.grid()\n",
    "\n",
    "plot_learning_curve(lr, X, y, cv=kf, n_jobs=4, label='Linear Regression')\n",
    "plot_learning_curve(rf, X, y, cv=kf, n_jobs=4, label='RandomForest Regressor')\n",
    "plot_learning_curve(nn, X, y, cv=kf, n_jobs=4, label='NeuralNet Regressor')\n",
    "\n",
    "plt.xlabel('# Experiment',fontsize=20)\n",
    "plt.ylabel('Cross-Validation Mean Absolute Error [eV]',fontsize=20)\n",
    "plt.tick_params(axis='both', which='major', labelsize=18)\n",
    "plt.legend(loc='upper right', fontsize='xx-large')\n",
    "plt.savefig('lr_rf_nn_learning_curves.pdf')\n",
    "plt.show()"
   ]
  },
  {
   "cell_type": "markdown",
   "metadata": {},
   "source": [
    "Observation from the learning curves:\n",
    "* RandomForest and NeuralNet (aka. multi-layer perceptron in sklearn) Regressor performs better when the dataset is large (when we use all the data). \n",
    "* NN is worse than both LR and RF until the dataset is large. \n",
    "* RandomForest and NeuralNet both have more optimizable hyperparameters that might improve the prediction accuracy. \n",
    "* NN has the most uncertainty throughout. \n",
    "* Not pictured: knn_regressor and svm_regressor are also tried but their training took a lot longer. \n",
    "\n",
    "NN and RF are chosen for the hyperparamater optimization. "
   ]
  },
  {
   "cell_type": "markdown",
   "metadata": {},
   "source": [
    "#### 2. Finalize two regressors and optimize their paramaters"
   ]
  },
  {
   "cell_type": "code",
   "execution_count": 50,
   "metadata": {},
   "outputs": [],
   "source": [
    "from scipy.stats import norm\n",
    "from sklearn.model_selection import GridSearchCV\n",
    "from sklearn.model_selection import train_test_split"
   ]
  },
  {
   "cell_type": "code",
   "execution_count": 34,
   "metadata": {},
   "outputs": [],
   "source": [
    "def report(results, n_top=2):\n",
    "    for i in range(1, n_top + 1):\n",
    "        candidates = np.flatnonzero(results['rank_test_score'] == i)\n",
    "        for candidate in candidates:\n",
    "            print(\"Model with rank: {0}\".format(i))\n",
    "            print(\"Mean validation score: {0:.3f} (std: {1:.3f})\"\n",
    "                  .format(results['mean_test_score'][candidate],\n",
    "                          results['std_test_score'][candidate]))\n",
    "            print(\"Parameters: {0}\".format(results['params'][candidate]))\n",
    "            print(\"\")"
   ]
  },
  {
   "cell_type": "code",
   "execution_count": 37,
   "metadata": {},
   "outputs": [],
   "source": [
    "# Split the overall data into train, test. We will use shuffle split\n",
    "X = np.array([list(x) for x in np.array(jcap_df['vae'])])\n",
    "y = np.array(jcap_df['bandgap'])\n",
    "X_train, X_test, y_train, y_test = train_test_split(X, y, test_size=0.2, random_state=42)\n",
    "\n",
    "# Random Forest \n",
    "#-------------------------------------------------------------\n",
    "rf = RandomForestRegressor(n_jobs=-1)\n",
    "rf_params = {'n_estimators':[5, 10, 20], 'random_state':[None, 1], 'min_samples_split':[2, 10, 20]}\n",
    "rf_clf = GridSearchCV(rf, rf_params)\n",
    "start = time.time()\n",
    "rf_clf.fit(X_train, y_train)\n",
    "y_pred = rf_clf.predict(X_test)"
   ]
  },
  {
   "cell_type": "code",
   "execution_count": 40,
   "metadata": {},
   "outputs": [
    {
     "name": "stdout",
     "output_type": "stream",
     "text": [
      "Random Forest SearchCV took 1465.17 seconds\n",
      "Model with rank: 1\n",
      "Mean validation score: 0.610 (std: 0.008)\n",
      "Parameters: {'min_samples_split': 10, 'n_estimators': 20, 'random_state': 1}\n",
      "\n",
      "Model with rank: 2\n",
      "Mean validation score: 0.610 (std: 0.008)\n",
      "Parameters: {'min_samples_split': 10, 'n_estimators': 20, 'random_state': None}\n",
      "\n"
     ]
    }
   ],
   "source": [
    "print(\"Random Forest SearchCV took %.2f seconds\" % ((time.time() - start)))\n",
    "report(rf_clf.cv_results_)\n",
    "best_rf = rf_clf.best_estimator_"
   ]
  },
  {
   "cell_type": "code",
   "execution_count": 42,
   "metadata": {},
   "outputs": [
    {
     "name": "stdout",
     "output_type": "stream",
     "text": [
      "Random Forest SearchCV took 842.26 seconds\n",
      "Model with rank: 1\n",
      "Mean validation score: 0.608 (std: 0.017)\n",
      "Parameters: {'hidden_layer_sizes': (300,), 'solver': 'adam'}\n",
      "\n",
      "Model with rank: 2\n",
      "Mean validation score: 0.606 (std: 0.017)\n",
      "Parameters: {'hidden_layer_sizes': (200,), 'solver': 'adam'}\n",
      "\n"
     ]
    }
   ],
   "source": [
    "nn_params = {'hidden_layer_sizes': [(100, ), (200, ), (300, )], 'solver':['sgd', 'adam']}\n",
    "nn = MLPRegressor()\n",
    "nn_clf = GridSearchCV(nn, nn_params)\n",
    "start = time.time()\n",
    "nn_clf.fit(X_train, y_train)\n",
    "y_pred = nn_clf.predict(X_test)\n",
    "print(\"Random Forest SearchCV took %.2f seconds\" % ((time.time() - start)))\n",
    "report(nn_clf.cv_results_)\n",
    "best_nn = nn_clf.best_estimator_"
   ]
  },
  {
   "cell_type": "code",
   "execution_count": 46,
   "metadata": {},
   "outputs": [],
   "source": [
    "import pickle\n",
    "best_estimators = {'random_forest': best_rf, \n",
    "                   'neural net': best_nn}\n",
    "pickle.dump(best_estimators, open('best_rf_nn_estimators.pkl', 'wb'))"
   ]
  },
  {
   "cell_type": "markdown",
   "metadata": {},
   "source": [
    "#### 3. Design Agents"
   ]
  },
  {
   "cell_type": "code",
   "execution_count": 85,
   "metadata": {},
   "outputs": [],
   "source": [
    "from camd.agent.base import HypothesisAgent"
   ]
  },
  {
   "cell_type": "code",
   "execution_count": 72,
   "metadata": {},
   "outputs": [],
   "source": [
    "# (shuffle) and split the df into seed and candidate df, half and half\n",
    "seed_df, candidate_df = train_test_split(jcap_df, test_size=0.5)\n",
    "sorted_jcap_df = jcap_df.sort_values('bandgap')\n",
    "candidate_df = candidate_df[['vae']].copy()"
   ]
  },
  {
   "cell_type": "markdown",
   "metadata": {},
   "source": [
    "3.1 RandomForest Agent"
   ]
  },
  {
   "cell_type": "code",
   "execution_count": 100,
   "metadata": {},
   "outputs": [
    {
     "data": {
      "text/html": [
       "<div>\n",
       "<style scoped>\n",
       "    .dataframe tbody tr th:only-of-type {\n",
       "        vertical-align: middle;\n",
       "    }\n",
       "\n",
       "    .dataframe tbody tr th {\n",
       "        vertical-align: top;\n",
       "    }\n",
       "\n",
       "    .dataframe thead th {\n",
       "        text-align: right;\n",
       "    }\n",
       "</style>\n",
       "<table border=\"1\" class=\"dataframe\">\n",
       "  <thead>\n",
       "    <tr style=\"text-align: right;\">\n",
       "      <th></th>\n",
       "      <th>vae</th>\n",
       "      <th>bandgap_pred</th>\n",
       "    </tr>\n",
       "    <tr>\n",
       "      <th>comp_id</th>\n",
       "      <th></th>\n",
       "      <th></th>\n",
       "    </tr>\n",
       "  </thead>\n",
       "  <tbody>\n",
       "    <tr>\n",
       "      <th>92923</th>\n",
       "      <td>[0.08136622, 0.17715588, -0.13503048, 0.092828...</td>\n",
       "      <td>0.980596</td>\n",
       "    </tr>\n",
       "    <tr>\n",
       "      <th>93086</th>\n",
       "      <td>[0.01545996, 0.2530085, -0.035263464, 0.127947...</td>\n",
       "      <td>0.981252</td>\n",
       "    </tr>\n",
       "    <tr>\n",
       "      <th>92957</th>\n",
       "      <td>[-0.10697932, 0.08667364, -0.024271503, -0.045...</td>\n",
       "      <td>1.007134</td>\n",
       "    </tr>\n",
       "    <tr>\n",
       "      <th>93020</th>\n",
       "      <td>[0.010051196, 0.06132173, 0.20147388, 0.070619...</td>\n",
       "      <td>1.054981</td>\n",
       "    </tr>\n",
       "    <tr>\n",
       "      <th>93065</th>\n",
       "      <td>[-0.018286826, 0.32820874, -0.14746442, 0.1143...</td>\n",
       "      <td>1.063357</td>\n",
       "    </tr>\n",
       "    <tr>\n",
       "      <th>92932</th>\n",
       "      <td>[-0.009920241, 0.04956758, 0.086294375, 0.1071...</td>\n",
       "      <td>1.131625</td>\n",
       "    </tr>\n",
       "    <tr>\n",
       "      <th>93125</th>\n",
       "      <td>[-0.14645672, -0.13028136, -0.20514247, -0.149...</td>\n",
       "      <td>1.141794</td>\n",
       "    </tr>\n",
       "    <tr>\n",
       "      <th>93016</th>\n",
       "      <td>[-0.00025531463, 0.02687803, 0.14591722, -0.02...</td>\n",
       "      <td>1.102557</td>\n",
       "    </tr>\n",
       "  </tbody>\n",
       "</table>\n",
       "</div>"
      ],
      "text/plain": [
       "                                                       vae  bandgap_pred\n",
       "comp_id                                                                 \n",
       "92923    [0.08136622, 0.17715588, -0.13503048, 0.092828...      0.980596\n",
       "93086    [0.01545996, 0.2530085, -0.035263464, 0.127947...      0.981252\n",
       "92957    [-0.10697932, 0.08667364, -0.024271503, -0.045...      1.007134\n",
       "93020    [0.010051196, 0.06132173, 0.20147388, 0.070619...      1.054981\n",
       "93065    [-0.018286826, 0.32820874, -0.14746442, 0.1143...      1.063357\n",
       "92932    [-0.009920241, 0.04956758, 0.086294375, 0.1071...      1.131625\n",
       "93125    [-0.14645672, -0.13028136, -0.20514247, -0.149...      1.141794\n",
       "93016    [-0.00025531463, 0.02687803, 0.14591722, -0.02...      1.102557"
      ]
     },
     "execution_count": 100,
     "metadata": {},
     "output_type": "execute_result"
    }
   ],
   "source": [
    "class RFHardnessAgent(HypothesisAgent):\n",
    "    def get_hypotheses(self, candidate_data, seed_data):\n",
    "        # Fit on known data\n",
    "        x_known = np.array([list(x) for x in np.array(seed_data['vae'])])\n",
    "        y_known = np.array(seed_data['bandgap'])\n",
    "        regressor = best_rf\n",
    "        regressor.fit(x_known, y_known)\n",
    "        \n",
    "        # Predict unknown data\n",
    "        x_unknown =np.array([list(x) for x in np.array(candidate_data['vae'])])\n",
    "        y_predicted = regressor.predict(x_unknown)\n",
    "        candidate_data['bandgap_pred'] = y_predicted\n",
    "        candidate_data = candidate_data.sort_values(by=['bandgap_pred'])\n",
    "        top_candidates = pd.concat([candidate_data.head(5), candidate_data[6:15].sample(n=3)])\n",
    "        return top_candidates\n",
    "    \n",
    "### Test agent here\n",
    "rfagent = RFHardnessAgent()\n",
    "rf_hypotheses = rfagent.get_hypotheses(candidate_df, seed_df)"
   ]
  },
  {
   "cell_type": "markdown",
   "metadata": {},
   "source": [
    "3.2 NN (or MLP) Agent"
   ]
  },
  {
   "cell_type": "code",
   "execution_count": 101,
   "metadata": {},
   "outputs": [],
   "source": [
    "class NNHardnessAgent(HypothesisAgent):\n",
    "    def get_hypotheses(self, candidate_data, seed_data):\n",
    "        # Fit on known data\n",
    "        x_known = np.array([list(x) for x in np.array(seed_data['vae'])])\n",
    "        y_known = np.array(seed_data['bandgap'])\n",
    "        regressor = best_nn\n",
    "        regressor.fit(x_known, y_known)\n",
    "        \n",
    "        # Predict unknown data\n",
    "        x_unknown =np.array([list(x) for x in np.array(candidate_data['vae'])])\n",
    "        y_predicted = regressor.predict(x_unknown)\n",
    "        candidate_data['bandgap_pred'] = y_predicted\n",
    "        candidate_data = candidate_data.sort_values(by=['bandgap_pred'])\n",
    "        top_candidates = pd.concat([candidate_data.head(5), candidate_data[6:15].sample(n=3)])\n",
    "        return top_candidates\n",
    "    \n",
    "### Test agent here\n",
    "nn_agent = NNHardnessAgent()\n",
    "nn_hypotheses = nn_agent.get_hypotheses(candidate_df, seed_df)"
   ]
  },
  {
   "cell_type": "markdown",
   "metadata": {},
   "source": [
    "## Experiment"
   ]
  },
  {
   "cell_type": "code",
   "execution_count": 102,
   "metadata": {},
   "outputs": [],
   "source": [
    "from camd.experiment.base import ATFSampler"
   ]
  },
  {
   "cell_type": "code",
   "execution_count": 109,
   "metadata": {},
   "outputs": [],
   "source": [
    "# Random Forest \n",
    "rf_atf_experiment = ATFSampler(dataframe=sorted_jcap_df)\n",
    "rf_atf_experiment.submit(rf_hypotheses)\n",
    "rf_results = rf_atf_experiment.get_results()"
   ]
  },
  {
   "cell_type": "code",
   "execution_count": 110,
   "metadata": {},
   "outputs": [],
   "source": [
    "# Neural Net\n",
    "nn_atf_experiment = ATFSampler(dataframe=sorted_jcap_df)\n",
    "nn_atf_experiment.submit(nn_hypotheses)\n",
    "nn_results = nn_atf_experiment.get_results()"
   ]
  },
  {
   "cell_type": "markdown",
   "metadata": {},
   "source": [
    "## Analyzers"
   ]
  },
  {
   "cell_type": "code",
   "execution_count": 92,
   "metadata": {},
   "outputs": [],
   "source": [
    "from camd.analysis import AnalyzerBase"
   ]
  },
  {
   "cell_type": "code",
   "execution_count": 111,
   "metadata": {},
   "outputs": [],
   "source": [
    "class BandGapAnalyzer(AnalyzerBase):\n",
    "    def analyze(self, new_experimental_results, seed_data):\n",
    "        new_seed = pd.concat(\n",
    "            [seed_data, new_experimental_results],\n",
    "        axis=0)\n",
    "        # Create a summary\n",
    "        average_new_badgap = new_experimental_results.bandgap.mean()\n",
    "        average_dataset_new_badgap  = new_seed.bandgap.mean()\n",
    "        new_result_ranks = new_seed.bandgap.rank(pct=True).loc[\n",
    "            new_experimental_results.index\n",
    "        ]\n",
    "        summary = pd.DataFrame({\n",
    "            \"average_new_bandgap\": [average_new_badgap],\n",
    "            \"average_dataset_bandgap\": [average_dataset_new_badgap],\n",
    "            \"average_rank\": [new_result_ranks.mean()]\n",
    "        })\n",
    "        return summary, new_seed"
   ]
  },
  {
   "cell_type": "code",
   "execution_count": 112,
   "metadata": {},
   "outputs": [
    {
     "data": {
      "text/html": [
       "<div>\n",
       "<style scoped>\n",
       "    .dataframe tbody tr th:only-of-type {\n",
       "        vertical-align: middle;\n",
       "    }\n",
       "\n",
       "    .dataframe tbody tr th {\n",
       "        vertical-align: top;\n",
       "    }\n",
       "\n",
       "    .dataframe thead th {\n",
       "        text-align: right;\n",
       "    }\n",
       "</style>\n",
       "<table border=\"1\" class=\"dataframe\">\n",
       "  <thead>\n",
       "    <tr style=\"text-align: right;\">\n",
       "      <th></th>\n",
       "      <th>average_new_bandgap</th>\n",
       "      <th>average_dataset_bandgap</th>\n",
       "      <th>average_rank</th>\n",
       "    </tr>\n",
       "  </thead>\n",
       "  <tbody>\n",
       "    <tr>\n",
       "      <th>0</th>\n",
       "      <td>1.133635</td>\n",
       "      <td>2.311527</td>\n",
       "      <td>0.007108</td>\n",
       "    </tr>\n",
       "  </tbody>\n",
       "</table>\n",
       "</div>"
      ],
      "text/plain": [
       "   average_new_bandgap  average_dataset_bandgap  average_rank\n",
       "0             1.133635                 2.311527      0.007108"
      ]
     },
     "execution_count": 112,
     "metadata": {},
     "output_type": "execute_result"
    }
   ],
   "source": [
    "k_analyzer = BandGapAnalyzer()\n",
    "rf_summary, new_seed = k_analyzer.analyze(rf_results, seed_df)\n",
    "rf_summary"
   ]
  },
  {
   "cell_type": "code",
   "execution_count": 113,
   "metadata": {},
   "outputs": [
    {
     "data": {
      "text/html": [
       "<div>\n",
       "<style scoped>\n",
       "    .dataframe tbody tr th:only-of-type {\n",
       "        vertical-align: middle;\n",
       "    }\n",
       "\n",
       "    .dataframe tbody tr th {\n",
       "        vertical-align: top;\n",
       "    }\n",
       "\n",
       "    .dataframe thead th {\n",
       "        text-align: right;\n",
       "    }\n",
       "</style>\n",
       "<table border=\"1\" class=\"dataframe\">\n",
       "  <thead>\n",
       "    <tr style=\"text-align: right;\">\n",
       "      <th></th>\n",
       "      <th>average_new_bandgap</th>\n",
       "      <th>average_dataset_bandgap</th>\n",
       "      <th>average_rank</th>\n",
       "    </tr>\n",
       "  </thead>\n",
       "  <tbody>\n",
       "    <tr>\n",
       "      <th>0</th>\n",
       "      <td>1.272095</td>\n",
       "      <td>2.311549</td>\n",
       "      <td>0.008893</td>\n",
       "    </tr>\n",
       "  </tbody>\n",
       "</table>\n",
       "</div>"
      ],
      "text/plain": [
       "   average_new_bandgap  average_dataset_bandgap  average_rank\n",
       "0             1.272095                 2.311549      0.008893"
      ]
     },
     "execution_count": 113,
     "metadata": {},
     "output_type": "execute_result"
    }
   ],
   "source": [
    "k_analyzer = BandGapAnalyzer()\n",
    "nn_summary, new_seed = k_analyzer.analyze(nn_results, seed_df)\n",
    "nn_summary"
   ]
  },
  {
   "cell_type": "markdown",
   "metadata": {},
   "source": [
    "## Campaign"
   ]
  },
  {
   "cell_type": "code",
   "execution_count": 114,
   "metadata": {},
   "outputs": [
    {
     "name": "stdout",
     "output_type": "stream",
     "text": [
      "Campaign initialization state: Agent RFHardnessAgent hypothesizing\n",
      "Campaign 0 state: Running experiments\n",
      "Iteration: 0\n",
      "Campaign 0 state: Getting new results\n",
      "Campaign 0 state: Analyzing results\n",
      "Campaign 0 state: Agent RFHardnessAgent hypothesizing\n",
      "Campaign 0 state: Running experiments\n",
      "  Waiting for next round ...\n",
      "Iteration: 1\n",
      "Campaign 1 state: Getting new results\n",
      "Campaign 1 state: Analyzing results\n",
      "Campaign 1 state: Agent RFHardnessAgent hypothesizing\n",
      "Campaign 1 state: Running experiments\n",
      "  Waiting for next round ...\n",
      "Iteration: 2\n",
      "Campaign 2 state: Getting new results\n",
      "Campaign 2 state: Analyzing results\n",
      "Campaign 2 state: Agent RFHardnessAgent hypothesizing\n",
      "Campaign 2 state: Running experiments\n",
      "  Waiting for next round ...\n",
      "Iteration: 3\n",
      "Campaign 3 state: Getting new results\n",
      "Campaign 3 state: Analyzing results\n",
      "Campaign 3 state: Agent RFHardnessAgent hypothesizing\n",
      "Campaign 3 state: Running experiments\n",
      "  Waiting for next round ...\n",
      "Iteration: 4\n",
      "Campaign 4 state: Getting new results\n",
      "Campaign 4 state: Analyzing results\n",
      "Campaign 4 state: Agent RFHardnessAgent hypothesizing\n",
      "Campaign 4 state: Running experiments\n",
      "  Waiting for next round ...\n",
      "Iteration: 5\n",
      "Campaign 5 state: Getting new results\n",
      "Campaign 5 state: Analyzing results\n",
      "Campaign 5 state: Agent RFHardnessAgent hypothesizing\n",
      "Campaign 5 state: Running experiments\n",
      "  Waiting for next round ...\n",
      "Iteration: 6\n",
      "Campaign 6 state: Getting new results\n",
      "Campaign 6 state: Analyzing results\n",
      "Campaign 6 state: Agent RFHardnessAgent hypothesizing\n",
      "Campaign 6 state: Running experiments\n",
      "  Waiting for next round ...\n",
      "Iteration: 7\n",
      "Campaign 7 state: Getting new results\n",
      "Campaign 7 state: Analyzing results\n",
      "Campaign 7 state: Agent RFHardnessAgent hypothesizing\n",
      "Campaign 7 state: Running experiments\n",
      "  Waiting for next round ...\n",
      "Iteration: 8\n",
      "Campaign 8 state: Getting new results\n",
      "Campaign 8 state: Analyzing results\n",
      "Campaign 8 state: Agent RFHardnessAgent hypothesizing\n",
      "Campaign 8 state: Running experiments\n",
      "  Waiting for next round ...\n",
      "Iteration: 9\n",
      "Campaign 9 state: Getting new results\n",
      "Campaign 9 state: Analyzing results\n",
      "Campaign 9 state: Agent RFHardnessAgent hypothesizing\n",
      "Campaign 9 state: Running experiments\n",
      "  Waiting for next round ...\n",
      "Iteration: 10\n",
      "Campaign 10 state: Getting new results\n",
      "Campaign 10 state: Analyzing results\n",
      "Campaign 10 state: Agent RFHardnessAgent hypothesizing\n",
      "Campaign 10 state: Running experiments\n",
      "  Waiting for next round ...\n",
      "Campaign 11 state: Getting new results\n",
      "Campaign 11 state: Analyzing results\n",
      "Finalizing campaign.\n"
     ]
    }
   ],
   "source": [
    "import os\n",
    "from monty.os import cd\n",
    "from camd.campaigns.base import Campaign\n",
    "# Set up folders\n",
    "os.system('rm -rf test')\n",
    "os.system('mkdir -p test')\n",
    "# Reinitialize experiment to clear history\n",
    "k_atf_experiment = ATFSampler(dataframe=sorted_jcap_df)\n",
    "with cd('test'):\n",
    "    campaign = Campaign(\n",
    "        candidate_data=candidate_df, \n",
    "        seed_data=seed_df,\n",
    "        agent=rfagent,\n",
    "        experiment=rf_atf_experiment,\n",
    "        analyzer=k_analyzer\n",
    "    )\n",
    "    campaign.auto_loop(initialize=True)"
   ]
  },
  {
   "cell_type": "code",
   "execution_count": 116,
   "metadata": {},
   "outputs": [],
   "source": [
    "# _, result_history = rf_atf_experiment.agg_history\n",
    "# candidate_df.style.apply(\n",
    "#     lambda x: ['background: darkorange' \n",
    "#                if (x.name in result_history.index)\n",
    "#                else '' for i in x], axis=1)"
   ]
  },
  {
   "cell_type": "code",
   "execution_count": null,
   "metadata": {},
   "outputs": [],
   "source": []
  }
 ],
 "metadata": {
  "kernelspec": {
   "display_name": "AMDD",
   "language": "python",
   "name": "amdd"
  },
  "language_info": {
   "codemirror_mode": {
    "name": "ipython",
    "version": 3
   },
   "file_extension": ".py",
   "mimetype": "text/x-python",
   "name": "python",
   "nbconvert_exporter": "python",
   "pygments_lexer": "ipython3",
   "version": "3.6.10"
  }
 },
 "nbformat": 4,
 "nbformat_minor": 4
}
