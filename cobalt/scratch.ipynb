{
 "cells": [
  {
   "cell_type": "markdown",
   "metadata": {},
   "source": [
    "# Project Overview\n",
    "\n",
    "* $\\textbf{Motivation}$: The electrochemical oxygen evolution reaction (OER) is one of the most important reactions in renewable energy technology. It is an anode reaction of water splitting to produce H2 and O2, and it can be coupled with cathodic reactions such as CO2 or N2 reduction reactions to produce valuable chemicals under ambient conditions, which otherwise requires energy-intensive processes. The current challenge of water-splitting reaction is to discover better catalysts in a large chemical search space. Since water-splitting reaction is electro-chemical reaction, one of the catalyst selection criteria is to find materials that are conductive (i.e. with low bandgap). The cost of generating bandgap data and large chemical space inspired adopting accelerated computational screenings, such as machine learning. \n",
    "\n",
    "* $\\textbf{Objective}$:The goal of this project is to develop a sequential learning procedure (SLP) that selects  materials suitable for water splitting reaction. The selection criterion would be the badgap of the materials. \n",
    "\n",
    "* $\\textbf{Dataset}$: The dataset used in the research presented in Stein et al. Chem. Sci., 2019, 10, 47-55 https://doi.org/10.1039/C8SC03077D. \n"
   ]
  },
  {
   "cell_type": "markdown",
   "metadata": {},
   "source": [
    "# Load packages and files"
   ]
  },
  {
   "cell_type": "code",
   "execution_count": 1,
   "metadata": {},
   "outputs": [],
   "source": [
    "%matplotlib inline\n",
    "import os\n",
    "import boto3\n",
    "import numpy as np\n",
    "import pandas as pd\n",
    "import matplotlib.pyplot as plt\n",
    "import time\n",
    "import os\n",
    "\n",
    "from monty.os import cd\n",
    "from sklearn.linear_model import LinearRegression\n",
    "from sklearn.ensemble import RandomForestRegressor, AdaBoostRegressor\n",
    "from sklearn.neural_network import MLPRegressor\n",
    "from sklearn.model_selection import KFold, train_test_split, learning_curve, GridSearchCV\n",
    "from sklearn.metrics import mean_absolute_error\n",
    "from tqdm import tqdm\n",
    "\n",
    "from camd.agent.base import HypothesisAgent\n",
    "from camd.analysis import AnalyzerBase\n",
    "from camd.experiment.base import ATFSampler\n",
    "from camd.campaigns.base import Campaign\n",
    "\n",
    "from agents_helper_scripts import get_features_from_df, BandgapAgent, explore_candidates"
   ]
  },
  {
   "cell_type": "markdown",
   "metadata": {},
   "source": [
    "# 1. Preprocessing"
   ]
  },
  {
   "cell_type": "markdown",
   "metadata": {},
   "source": [
    "### 1.1 Load data\n",
    "Download files to SageMaker instance from S3."
   ]
  },
  {
   "cell_type": "code",
   "execution_count": 2,
   "metadata": {},
   "outputs": [
    {
     "name": "stderr",
     "output_type": "stream",
     "text": [
      "jcap_optical_encoding.pickle: 100%|██████████| 154M/154M [00:00<00:00, 163MB/s]  \n",
      "jcap_optical_encoding.pickle: 100%|██████████| 1.01k/1.01k [00:00<00:00, 22.0kB/s]\n"
     ]
    },
    {
     "name": "stdout",
     "output_type": "stream",
     "text": [
      "This dataset has 100430 samples, 45 features\n"
     ]
    }
   ],
   "source": [
    "jcap_pickle = 'jcap_optical_encoding.pickle'\n",
    "energy_npy = 'energy_ev.npy'\n",
    "\n",
    "def hook(t):\n",
    "    def inner(bytes_amount):\n",
    "        t.update(bytes_amount)\n",
    "    return inner\n",
    "#session = boto3.session.Session(profile_name='hack2020')\n",
    "#s3 = session.client('s3')\n",
    "s3 = boto3.client('s3')\n",
    "for filename in [jcap_pickle, energy_npy]:\n",
    "    filesize = boto3.resource('s3').Object('hackathon2020-prod', 'data/' + filename).content_length\n",
    "    with tqdm(total=filesize, unit='B', unit_scale=True, desc=jcap_pickle) as t:\n",
    "        s3.download_file('hackathon2020-prod', 'data/' + filename, filename, Callback=hook(t))\n",
    "        \n",
    "energy_ev = np.load(energy_npy)\n",
    "jcap_df = pd.read_pickle(jcap_pickle)\n",
    "print('This dataset has {} samples, {} features'.format(jcap_df.shape[0], jcap_df.shape[1]))"
   ]
  },
  {
   "cell_type": "markdown",
   "metadata": {},
   "source": [
    "### 1.2. Parition data into seed and candidate df"
   ]
  },
  {
   "cell_type": "code",
   "execution_count": 3,
   "metadata": {},
   "outputs": [
    {
     "name": "stdout",
     "output_type": "stream",
     "text": [
      "10043 seed data, 90387 candidates to explore\n"
     ]
    }
   ],
   "source": [
    "# random state=42 allows us to reproduce same dfs each time\n",
    "seed_orig_df, candidate_orig_df = train_test_split(jcap_df, test_size=0.9, random_state=42)\n",
    "\n",
    "# make cop of seed, candidate df so we don't modify jcap_df \n",
    "seed_df = seed_orig_df.copy()\n",
    "candidate_df = candidate_orig_df.copy()\n",
    "\n",
    "print('{} seed data, {} candidates to explore'.format(len(seed_df), len(candidate_df)))"
   ]
  },
  {
   "cell_type": "markdown",
   "metadata": {},
   "source": [
    "### 1.3 Test various different ML algorithm and pick the best ones.\n",
    "There are a lot of components one has to consider before solving a machine learning problem. Some of which includes data preparation, feature selection, feature engineering, model selection and validation, hyperparameter tuning, etc. In theory, you can find and apply a plethora of techniques for each of these components, but they all might perform differently for different datasets. The challenge is to find the best performing combination of techniques so that you can minimize the error in your predictions. \n",
    "\n",
    "In this step, we will outline a series of steps to choose the best machine learning model for our agent. We focused on model selection and hyperparamster tuning. If time and resources allow in thr future, these steps should be refined to intelligently explore the possible ML models to find the most suitable one for your exploration. "
   ]
  },
  {
   "cell_type": "code",
   "execution_count": 4,
   "metadata": {},
   "outputs": [],
   "source": [
    "# Helper funtion\n",
    "# -------------------------------------------------\n",
    "kf = KFold(n_splits=3, shuffle=True, random_state=42)\n",
    "def plot_learning_curve(estimator, X, y, cv=kf, n_jobs=4, train_sizes=np.linspace(.1, 1.0, 10), \n",
    "                        color=None, label=None):\n",
    "    \"\"\"\n",
    "    Function that generates a learning curve. The data are split into various train sizes.\n",
    "    At each train size, a 3-fold CV is used on training data, and validated on the validation data. \n",
    "    The mean and standard deviation of the CV error is plotted. \n",
    "    \n",
    "    Args:\n",
    "        estimator        ML model\n",
    "        X                list of features\n",
    "        y                list of labels      \n",
    "\n",
    "    \"\"\"\n",
    "    t0 = time.time()\n",
    "    train_sizes, train_scores, test_scores = learning_curve(\n",
    "        estimator, X, y, cv=cv, n_jobs=n_jobs, train_sizes=train_sizes, scoring='neg_mean_absolute_error')\n",
    "    train_scores_mean = -np.mean(train_scores, axis=1)\n",
    "    train_scores_std = -np.std(train_scores, axis=1)\n",
    "    test_scores_mean = -np.mean(test_scores, axis=1)\n",
    "    test_scores_std = -np.std(test_scores, axis=1)\n",
    "    plthandle, = plt.plot(train_sizes*1.5, test_scores_mean, 'o-', color=color,\n",
    "             label=label,ms=15)\n",
    "    plt.fill_between(train_sizes*1.5, test_scores_mean - test_scores_std,\n",
    "                     test_scores_mean + test_scores_std, alpha=0.1, color=plthandle.get_color())\n",
    "    print('Total time', time.time()-t0) "
   ]
  },
  {
   "cell_type": "markdown",
   "metadata": {},
   "source": [
    "#### 1.3.1 ML Model selection"
   ]
  },
  {
   "cell_type": "code",
   "execution_count": 5,
   "metadata": {},
   "outputs": [
    {
     "name": "stdout",
     "output_type": "stream",
     "text": [
      "Total time 1.0221712589263916\n",
      "Total time 3.2699573040008545\n",
      "Total time 1.4162847995758057\n"
     ]
    },
    {
     "data": {
      "image/png": "[encoded data removed]",
      "text/plain": [
       "<Figure size 1080x720 with 1 Axes>"
      ]
     },
     "metadata": {
      "needs_background": "light"
     },
     "output_type": "display_data"
    }
   ],
   "source": [
    "# we chose linear regression, random forest regressor, and adaboost regressor. \n",
    "# Each model used sklearn default hyparparamaters for a baseline comparison\n",
    "lr = LinearRegression()\n",
    "rf = RandomForestRegressor(n_estimators=20, n_jobs=-1)\n",
    "ada = AdaBoostRegressor()\n",
    "\n",
    "# Process Data\n",
    "seed_features = get_features_from_df(seed_df)\n",
    "seed_labels = seed_df['bandgap']\n",
    "\n",
    "plt.figure(figsize=(15,10))\n",
    "plt.grid()\n",
    "\n",
    "plot_learning_curve(lr, seed_features, seed_labels, label='Linear Regression')\n",
    "plot_learning_curve(rf, seed_features, seed_labels,  label='RandomForest Regressor')\n",
    "plot_learning_curve(ada, seed_features, seed_labels,  label='AdaBoost Regressor')\n",
    "\n",
    "plt.xlabel('# Seed Experiment Data',fontsize=20)\n",
    "plt.ylabel('Cross-Validation Mean Absolute Validation Error [eV]',fontsize=20)\n",
    "plt.tick_params(axis='both', which='major', labelsize=18)\n",
    "plt.legend(loc='upper right', fontsize='xx-large')\n",
    "plt.savefig('lr_rf_ada_learning_curves.pdf')\n",
    "plt.show()"
   ]
  },
  {
   "cell_type": "markdown",
   "metadata": {},
   "source": [
    "$\\textbf{Thoughts}$:\n",
    "* RandomForest and Linear Reression performs better and have lower standard deviation.\n",
    "* RandomForest performs better as dataset decreases. \n",
    "* RandomForest has more tunnable hyperparameters that could improve the prediction accuracy.\n",
    "\n",
    "$\\textbf{We will use RandomForest Regressor in our Agent.}$\n",
    "\n",
    "$\\textbf{**Note}$: As the experimental dataset increases, we might need to re-evaluate model selection "
   ]
  },
  {
   "cell_type": "markdown",
   "metadata": {},
   "source": [
    "#### 1.3.2 Optimize Hyperparamaters\n",
    "We will use sklearn GridSearchCV here. <br>\n",
    "$\\textbf{**Note}$: The GridsearchCV becomes time consuming if we optimize large sets of paramaters, and/or have a more complex model. "
   ]
  },
  {
   "cell_type": "code",
   "execution_count": 6,
   "metadata": {},
   "outputs": [
    {
     "data": {
      "text/plain": [
       "RandomForestRegressor(bootstrap=True, ccp_alpha=0.0, criterion='mse',\n",
       "                      max_depth=None, max_features='auto', max_leaf_nodes=None,\n",
       "                      max_samples=None, min_impurity_decrease=0.0,\n",
       "                      min_impurity_split=None, min_samples_leaf=1,\n",
       "                      min_samples_split=5, min_weight_fraction_leaf=0.0,\n",
       "                      n_estimators=20, n_jobs=-1, oob_score=False,\n",
       "                      random_state=None, verbose=0, warm_start=False)"
      ]
     },
     "execution_count": 6,
     "metadata": {},
     "output_type": "execute_result"
    }
   ],
   "source": [
    "X_train, X_test, y_train, y_test = train_test_split(seed_features, seed_labels, test_size=0.2, random_state=42)\n",
    "\n",
    "rf = RandomForestRegressor(n_jobs=-1)\n",
    "rf_params = {'n_estimators':[5, 10, 20], 'random_state':[None, 1], 'min_samples_split':[5, 10, 20]}\n",
    "rf_clf = GridSearchCV(rf, rf_params)\n",
    "rf_clf.fit(X_train, y_train)\n",
    "y_pred = rf_clf.predict(X_test)\n",
    "best_rf = rf_clf.best_estimator_\n",
    "best_rf\n",
    "\n",
    "# # Overall results\n",
    "# nn_clf.cv_results_"
   ]
  },
  {
   "cell_type": "markdown",
   "metadata": {},
   "source": [
    "# 2. Define Agent"
   ]
  },
  {
   "cell_type": "code",
   "execution_count": 7,
   "metadata": {},
   "outputs": [],
   "source": [
    "bg_agent = BandgapAgent(best_rf, num=10, random=False)\n",
    "hypotheses = bg_agent.get_hypotheses(candidate_df, seed_df)"
   ]
  },
  {
   "cell_type": "code",
   "execution_count": 8,
   "metadata": {},
   "outputs": [],
   "source": [
    "candidate_data = candidate_df\n",
    "number = 5\n",
    "a = explore_candidates(candidate_data, number)"
   ]
  },
  {
   "cell_type": "code",
   "execution_count": 9,
   "metadata": {},
   "outputs": [
    {
     "data": {
      "text/html": [
       "<div>\n",
       "<style scoped>\n",
       "    .dataframe tbody tr th:only-of-type {\n",
       "        vertical-align: middle;\n",
       "    }\n",
       "\n",
       "    .dataframe tbody tr th {\n",
       "        vertical-align: top;\n",
       "    }\n",
       "\n",
       "    .dataframe thead th {\n",
       "        text-align: right;\n",
       "    }\n",
       "</style>\n",
       "<table border=\"1\" class=\"dataframe\">\n",
       "  <thead>\n",
       "    <tr style=\"text-align: right;\">\n",
       "      <th></th>\n",
       "      <th>bandgap</th>\n",
       "      <th>vae</th>\n",
       "      <th>spectrum</th>\n",
       "      <th>Fe</th>\n",
       "      <th>Sn</th>\n",
       "      <th>Ti</th>\n",
       "      <th>Zn</th>\n",
       "      <th>Ce</th>\n",
       "      <th>Co</th>\n",
       "      <th>Ni</th>\n",
       "      <th>...</th>\n",
       "      <th>Yb</th>\n",
       "      <th>P</th>\n",
       "      <th>Sc</th>\n",
       "      <th>Ag</th>\n",
       "      <th>Tb</th>\n",
       "      <th>Nd</th>\n",
       "      <th>Pd</th>\n",
       "      <th>Hf</th>\n",
       "      <th>Rb</th>\n",
       "      <th>bandgap_pred</th>\n",
       "    </tr>\n",
       "    <tr>\n",
       "      <th>comp_id</th>\n",
       "      <th></th>\n",
       "      <th></th>\n",
       "      <th></th>\n",
       "      <th></th>\n",
       "      <th></th>\n",
       "      <th></th>\n",
       "      <th></th>\n",
       "      <th></th>\n",
       "      <th></th>\n",
       "      <th></th>\n",
       "      <th></th>\n",
       "      <th></th>\n",
       "      <th></th>\n",
       "      <th></th>\n",
       "      <th></th>\n",
       "      <th></th>\n",
       "      <th></th>\n",
       "      <th></th>\n",
       "      <th></th>\n",
       "      <th></th>\n",
       "      <th></th>\n",
       "    </tr>\n",
       "  </thead>\n",
       "  <tbody>\n",
       "    <tr>\n",
       "      <th>17180</th>\n",
       "      <td>2.489787</td>\n",
       "      <td>[-0.52662873, 0.08827414, -0.98506105, -0.2731...</td>\n",
       "      <td>[0.09161955, 0.09089981, 0.08980345, 0.0890844...</td>\n",
       "      <td>0.0</td>\n",
       "      <td>0.0</td>\n",
       "      <td>0.0</td>\n",
       "      <td>0.0</td>\n",
       "      <td>0.00</td>\n",
       "      <td>0.00</td>\n",
       "      <td>0.0</td>\n",
       "      <td>...</td>\n",
       "      <td>0.0</td>\n",
       "      <td>0.0</td>\n",
       "      <td>0.0</td>\n",
       "      <td>0.0</td>\n",
       "      <td>0.0</td>\n",
       "      <td>0.0</td>\n",
       "      <td>0.0</td>\n",
       "      <td>0.0</td>\n",
       "      <td>0.0</td>\n",
       "      <td>2.481176</td>\n",
       "    </tr>\n",
       "    <tr>\n",
       "      <th>17450</th>\n",
       "      <td>2.495725</td>\n",
       "      <td>[-0.22678876, -0.50225925, -0.8599825, -0.4800...</td>\n",
       "      <td>[0.056660164, 0.05570137, 0.054714166, 0.05403...</td>\n",
       "      <td>0.0</td>\n",
       "      <td>0.0</td>\n",
       "      <td>0.0</td>\n",
       "      <td>0.0</td>\n",
       "      <td>0.00</td>\n",
       "      <td>0.00</td>\n",
       "      <td>0.0</td>\n",
       "      <td>...</td>\n",
       "      <td>0.0</td>\n",
       "      <td>0.0</td>\n",
       "      <td>0.0</td>\n",
       "      <td>0.0</td>\n",
       "      <td>0.0</td>\n",
       "      <td>0.0</td>\n",
       "      <td>0.0</td>\n",
       "      <td>0.0</td>\n",
       "      <td>0.0</td>\n",
       "      <td>2.542340</td>\n",
       "    </tr>\n",
       "    <tr>\n",
       "      <th>17512</th>\n",
       "      <td>2.631150</td>\n",
       "      <td>[-0.23023541, -0.0610229, -1.06031, -0.2398229...</td>\n",
       "      <td>[0.038876433, 0.03856912, 0.03820689, 0.038045...</td>\n",
       "      <td>0.0</td>\n",
       "      <td>0.0</td>\n",
       "      <td>0.0</td>\n",
       "      <td>0.0</td>\n",
       "      <td>0.00</td>\n",
       "      <td>0.00</td>\n",
       "      <td>0.0</td>\n",
       "      <td>...</td>\n",
       "      <td>0.0</td>\n",
       "      <td>0.0</td>\n",
       "      <td>0.0</td>\n",
       "      <td>0.0</td>\n",
       "      <td>0.0</td>\n",
       "      <td>0.0</td>\n",
       "      <td>0.0</td>\n",
       "      <td>0.0</td>\n",
       "      <td>0.0</td>\n",
       "      <td>2.550980</td>\n",
       "    </tr>\n",
       "    <tr>\n",
       "      <th>20581</th>\n",
       "      <td>2.618922</td>\n",
       "      <td>[-0.4950737, -0.084620066, -0.7689451, -0.2011...</td>\n",
       "      <td>[0.060516044, 0.060508907, 0.059686605, 0.0593...</td>\n",
       "      <td>0.0</td>\n",
       "      <td>0.0</td>\n",
       "      <td>0.0</td>\n",
       "      <td>0.0</td>\n",
       "      <td>0.00</td>\n",
       "      <td>0.00</td>\n",
       "      <td>0.0</td>\n",
       "      <td>...</td>\n",
       "      <td>0.0</td>\n",
       "      <td>0.0</td>\n",
       "      <td>0.0</td>\n",
       "      <td>0.0</td>\n",
       "      <td>0.0</td>\n",
       "      <td>0.0</td>\n",
       "      <td>0.0</td>\n",
       "      <td>0.0</td>\n",
       "      <td>0.0</td>\n",
       "      <td>2.557171</td>\n",
       "    </tr>\n",
       "    <tr>\n",
       "      <th>154507</th>\n",
       "      <td>1.793469</td>\n",
       "      <td>[0.26022536, 0.40528348, -1.1142579, 0.3232420...</td>\n",
       "      <td>[0.076497704, 0.07823186, 0.08023078, 0.082211...</td>\n",
       "      <td>0.0</td>\n",
       "      <td>0.0</td>\n",
       "      <td>0.0</td>\n",
       "      <td>0.0</td>\n",
       "      <td>0.15</td>\n",
       "      <td>0.65</td>\n",
       "      <td>0.0</td>\n",
       "      <td>...</td>\n",
       "      <td>0.0</td>\n",
       "      <td>0.0</td>\n",
       "      <td>0.0</td>\n",
       "      <td>0.0</td>\n",
       "      <td>0.0</td>\n",
       "      <td>0.0</td>\n",
       "      <td>0.0</td>\n",
       "      <td>0.0</td>\n",
       "      <td>0.0</td>\n",
       "      <td>1.851431</td>\n",
       "    </tr>\n",
       "  </tbody>\n",
       "</table>\n",
       "<p>5 rows × 46 columns</p>\n",
       "</div>"
      ],
      "text/plain": [
       "          bandgap                                                vae  \\\n",
       "comp_id                                                                \n",
       "17180    2.489787  [-0.52662873, 0.08827414, -0.98506105, -0.2731...   \n",
       "17450    2.495725  [-0.22678876, -0.50225925, -0.8599825, -0.4800...   \n",
       "17512    2.631150  [-0.23023541, -0.0610229, -1.06031, -0.2398229...   \n",
       "20581    2.618922  [-0.4950737, -0.084620066, -0.7689451, -0.2011...   \n",
       "154507   1.793469  [0.26022536, 0.40528348, -1.1142579, 0.3232420...   \n",
       "\n",
       "                                                  spectrum   Fe   Sn   Ti  \\\n",
       "comp_id                                                                     \n",
       "17180    [0.09161955, 0.09089981, 0.08980345, 0.0890844...  0.0  0.0  0.0   \n",
       "17450    [0.056660164, 0.05570137, 0.054714166, 0.05403...  0.0  0.0  0.0   \n",
       "17512    [0.038876433, 0.03856912, 0.03820689, 0.038045...  0.0  0.0  0.0   \n",
       "20581    [0.060516044, 0.060508907, 0.059686605, 0.0593...  0.0  0.0  0.0   \n",
       "154507   [0.076497704, 0.07823186, 0.08023078, 0.082211...  0.0  0.0  0.0   \n",
       "\n",
       "          Zn    Ce    Co   Ni  ...   Yb    P   Sc   Ag   Tb   Nd   Pd   Hf  \\\n",
       "comp_id                        ...                                           \n",
       "17180    0.0  0.00  0.00  0.0  ...  0.0  0.0  0.0  0.0  0.0  0.0  0.0  0.0   \n",
       "17450    0.0  0.00  0.00  0.0  ...  0.0  0.0  0.0  0.0  0.0  0.0  0.0  0.0   \n",
       "17512    0.0  0.00  0.00  0.0  ...  0.0  0.0  0.0  0.0  0.0  0.0  0.0  0.0   \n",
       "20581    0.0  0.00  0.00  0.0  ...  0.0  0.0  0.0  0.0  0.0  0.0  0.0  0.0   \n",
       "154507   0.0  0.15  0.65  0.0  ...  0.0  0.0  0.0  0.0  0.0  0.0  0.0  0.0   \n",
       "\n",
       "          Rb  bandgap_pred  \n",
       "comp_id                     \n",
       "17180    0.0      2.481176  \n",
       "17450    0.0      2.542340  \n",
       "17512    0.0      2.550980  \n",
       "20581    0.0      2.557171  \n",
       "154507   0.0      1.851431  \n",
       "\n",
       "[5 rows x 46 columns]"
      ]
     },
     "execution_count": 9,
     "metadata": {},
     "output_type": "execute_result"
    }
   ],
   "source": [
    "a"
   ]
  },
  {
   "cell_type": "markdown",
   "metadata": {},
   "source": [
    "# 3. Define Experiment"
   ]
  },
  {
   "cell_type": "code",
   "execution_count": null,
   "metadata": {},
   "outputs": [],
   "source": []
  },
  {
   "cell_type": "code",
   "execution_count": null,
   "metadata": {},
   "outputs": [],
   "source": []
  },
  {
   "cell_type": "code",
   "execution_count": null,
   "metadata": {},
   "outputs": [],
   "source": [
    "k_atf_experiment = ATFSampler(dataframe=jcap_df)\n",
    "k_atf_experiment.submit(hypotheses)\n",
    "results = k_atf_experiment.get_results()"
   ]
  },
  {
   "cell_type": "markdown",
   "metadata": {},
   "source": [
    "# 4. Define Analyzer "
   ]
  },
  {
   "cell_type": "code",
   "execution_count": null,
   "metadata": {},
   "outputs": [],
   "source": [
    "class BandgapAnalyzer(AnalyzerBase): \n",
    "    def analyze(self, new_experimental_results, seed_data):\n",
    "        new_seed = pd.concat(\n",
    "            [seed_data, new_experimental_results],\n",
    "        axis=0)\n",
    "        # Create a summary\n",
    "        average_new_bandgap = new_experimental_results.bandgap.mean()\n",
    "        average_dataset_bandgap = new_seed.bandgap.mean()\n",
    "        new_result_ranks = new_seed.bandgap.rank(pct=True).loc[\n",
    "            new_experimental_results.index\n",
    "        ]\n",
    "        min_new_bandgap = new_experimental_results.bandgap.min()\n",
    "        min_dataset_bandgap = new_seed.bandgap.min()\n",
    "        summary = pd.DataFrame({\n",
    "            \"average_new_bandgap\": [average_new_bandgap],\n",
    "            \"average_dataset_bandgap\": [average_dataset_bandgap],\n",
    "            \"average_rank\": [new_result_ranks.mean()],\n",
    "            \"min_new_bandgap\": [min_new_bandgap],\n",
    "            \"min_dataset_bandgap\": [min_dataset_bandgap]\n",
    "        })\n",
    "        return summary, new_seed\n",
    "    \n",
    "k_analyzer = BandgapAnalyzer()\n",
    "summary, new_seed = k_analyzer.analyze(hypotheses, seed_df)\n",
    "summary"
   ]
  },
  {
   "cell_type": "markdown",
   "metadata": {},
   "source": [
    "# 5. Define campaign"
   ]
  },
  {
   "cell_type": "code",
   "execution_count": null,
   "metadata": {},
   "outputs": [],
   "source": [
    "import os\n",
    "from monty.os import cd\n",
    "from camd.campaigns.base import Campaign\n",
    "# Set up folders\n",
    "os.system('rm -rf test')\n",
    "os.system('mkdir -p test')\n",
    "# Reinitialize experiment to clear history\n",
    "k_atf_experiment = ATFSampler(dataframe=jcap_df)\n",
    "with cd('test'):\n",
    "    campaign = Campaign(\n",
    "        candidate_data=candidate_df, \n",
    "        seed_data=seed_df,\n",
    "        agent=bg_agent,\n",
    "        experiment=k_atf_experiment,\n",
    "        analyzer=k_analyzer\n",
    "    )\n",
    "    campaign.auto_loop(initialize=True)"
   ]
  },
  {
   "cell_type": "code",
   "execution_count": null,
   "metadata": {},
   "outputs": [],
   "source": [
    "# Pull up some results\n",
    "history = pd.read_pickle('test/history.pickle')\n",
    "#visualize learning\n",
    "history.plot(subplots=True)"
   ]
  },
  {
   "cell_type": "code",
   "execution_count": null,
   "metadata": {},
   "outputs": [],
   "source": [
    "#visualize learning"
   ]
  }
 ],
 "metadata": {
  "kernelspec": {
   "display_name": "AMDD",
   "language": "python",
   "name": "amdd"
  },
  "language_info": {
   "codemirror_mode": {
    "name": "ipython",
    "version": 3
   },
   "file_extension": ".py",
   "mimetype": "text/x-python",
   "name": "python",
   "nbconvert_exporter": "python",
   "pygments_lexer": "ipython3",
   "version": "3.6.10"
  }
 },
 "nbformat": 4,
 "nbformat_minor": 4
}
